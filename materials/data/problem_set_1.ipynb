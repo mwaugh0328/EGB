{
 "cells": [
  {
   "cell_type": "code",
   "execution_count": 1,
   "metadata": {},
   "outputs": [],
   "source": [
    "import pandas as pd\n",
    "from pandas_datareader import data, wb # This will import the data reader\n",
    "import weightedcalcs as wc\n",
    "import numpy as np\n",
    "\n",
    "import matplotlib.pyplot as plt\n",
    "\n",
    "fig_path = \"C:\\\\Users\\\\mwaugh.NYC-STERN\\\\Documents\\\\GitHub\\\\EGB\\\\materials\\\\figures\""
   ]
  },
  {
   "cell_type": "markdown",
   "metadata": {},
   "source": [
    "## Question \\#1"
   ]
  },
  {
   "cell_type": "code",
   "execution_count": 2,
   "metadata": {},
   "outputs": [],
   "source": [
    "codes = [\"GDP\" ,\"A033RC1A027NBEA\"] \n",
    "# nomial gdp, imports, imports from china, constant maturity 1 year rate, cip (no energy or food)\n",
    "\n",
    "fred = data.DataReader(codes,\"fred\",1970)  # Then for fred, you hand it the codes\n",
    "                                            # Tell it you want to ask from FRED\n",
    "                                            # then tell it the start date"
   ]
  },
  {
   "cell_type": "code",
   "execution_count": 3,
   "metadata": {},
   "outputs": [
    {
     "data": {
      "text/html": [
       "<div>\n",
       "<style scoped>\n",
       "    .dataframe tbody tr th:only-of-type {\n",
       "        vertical-align: middle;\n",
       "    }\n",
       "\n",
       "    .dataframe tbody tr th {\n",
       "        vertical-align: top;\n",
       "    }\n",
       "\n",
       "    .dataframe thead th {\n",
       "        text-align: right;\n",
       "    }\n",
       "</style>\n",
       "<table border=\"1\" class=\"dataframe\">\n",
       "  <thead>\n",
       "    <tr style=\"text-align: right;\">\n",
       "      <th></th>\n",
       "      <th>GDP</th>\n",
       "      <th>A033RC1A027NBEA</th>\n",
       "    </tr>\n",
       "    <tr>\n",
       "      <th>DATE</th>\n",
       "      <th></th>\n",
       "      <th></th>\n",
       "    </tr>\n",
       "  </thead>\n",
       "  <tbody>\n",
       "    <tr>\n",
       "      <th>1970-01-01</th>\n",
       "      <td>1051.200</td>\n",
       "      <td>623.347</td>\n",
       "    </tr>\n",
       "    <tr>\n",
       "      <th>1970-04-01</th>\n",
       "      <td>1067.375</td>\n",
       "      <td>NaN</td>\n",
       "    </tr>\n",
       "    <tr>\n",
       "      <th>1970-07-01</th>\n",
       "      <td>1086.059</td>\n",
       "      <td>NaN</td>\n",
       "    </tr>\n",
       "    <tr>\n",
       "      <th>1970-10-01</th>\n",
       "      <td>1088.608</td>\n",
       "      <td>NaN</td>\n",
       "    </tr>\n",
       "    <tr>\n",
       "      <th>1971-01-01</th>\n",
       "      <td>1135.156</td>\n",
       "      <td>664.995</td>\n",
       "    </tr>\n",
       "  </tbody>\n",
       "</table>\n",
       "</div>"
      ],
      "text/plain": [
       "                 GDP  A033RC1A027NBEA\n",
       "DATE                                 \n",
       "1970-01-01  1051.200          623.347\n",
       "1970-04-01  1067.375              NaN\n",
       "1970-07-01  1086.059              NaN\n",
       "1970-10-01  1088.608              NaN\n",
       "1971-01-01  1135.156          664.995"
      ]
     },
     "execution_count": 3,
     "metadata": {},
     "output_type": "execute_result"
    }
   ],
   "source": [
    "fred.head()"
   ]
  },
  {
   "cell_type": "code",
   "execution_count": 4,
   "metadata": {},
   "outputs": [],
   "source": [
    "fred[\"labor_share\"] = (fred.A033RC1A027NBEA) / fred.GDP"
   ]
  },
  {
   "cell_type": "markdown",
   "metadata": {},
   "source": [
    "This code \"A041RC1A027NBEA\" may be of interest"
   ]
  },
  {
   "cell_type": "code",
   "execution_count": 10,
   "metadata": {},
   "outputs": [
    {
     "data": {
      "image/png": "[encoded data removed]",
      "text/plain": [
       "<Figure size 720x504 with 1 Axes>"
      ]
     },
     "metadata": {
      "needs_background": "light"
     },
     "output_type": "display_data"
    }
   ],
   "source": [
    "fig, ax = plt.subplots(figsize = (10,7))\n",
    "\n",
    "ax.plot(fred.dropna().labor_share, color = \"blue\",\n",
    "        linewidth = 5, alpha = 0.75)\n",
    "\n",
    "ax.set_ylim(0.50,0.65)\n",
    "\n",
    "ax.set_ylabel(\"Labor's Share of GDP\", fontsize = 14)\n",
    "\n",
    "ax.spines[\"top\"].set_visible(False)\n",
    "ax.spines[\"right\"].set_visible(False)\n",
    "\n",
    "plt.show()"
   ]
  },
  {
   "cell_type": "code",
   "execution_count": 59,
   "metadata": {},
   "outputs": [],
   "source": [
    "gdp = pd.DataFrame(fred[\"GDP\"].resample(\"A\", convention= 'end').sum())\n",
    "\n",
    "labor_comp = pd.DataFrame(fred[\"A033RC1A027NBEA\"].resample(\"A\", convention= 'end').sum())"
   ]
  },
  {
   "cell_type": "code",
   "execution_count": 60,
   "metadata": {},
   "outputs": [],
   "source": [
    "gdp_growth = (100*(np.log(gdp.loc[\"1979-12-31\"]) - np.log(gdp.loc[\"1970-12-31\"]) )/ 10)\n",
    "\n",
    "gdp_growth = gdp_growth.append(100*(np.log(gdp.loc[\"1989-12-31\"]) - np.log(gdp.loc[\"1980-12-31\"]) )/ 10)\n",
    "\n",
    "gdp_growth = gdp_growth.append(100*(np.log(gdp.loc[\"1999-12-31\"]) - np.log(gdp.loc[\"1990-12-31\"]) )/ 10)\n",
    "\n",
    "gdp_growth = gdp_growth.append(100*(np.log(gdp.loc[\"2017-12-31\"]) - np.log(gdp.loc[\"2000-12-31\"]) )/ 10)"
   ]
  },
  {
   "cell_type": "code",
   "execution_count": 68,
   "metadata": {},
   "outputs": [],
   "source": [
    "w_growth = (100*(np.log(labor_comp.loc[\"1979-12-31\"]) - np.log(labor_comp.loc[\"1970-12-31\"]) )/ 10)\n",
    "\n",
    "w_growth = w_growth.append(100*(np.log(labor_comp.loc[\"1989-12-31\"]) - np.log(labor_comp.loc[\"1980-12-31\"]) )/ 10)\n",
    "\n",
    "w_growth = w_growth.append(100*(np.log(labor_comp.loc[\"1999-12-31\"]) - np.log(labor_comp.loc[\"1990-12-31\"]) )/ 10)\n",
    "\n",
    "w_growth = w_growth.append(100*(np.log(labor_comp.loc[\"2017-12-31\"]) - np.log(labor_comp.loc[\"2000-12-31\"]) )/ 10)"
   ]
  },
  {
   "cell_type": "code",
   "execution_count": 69,
   "metadata": {},
   "outputs": [
    {
     "data": {
      "text/plain": [
       "A033RC1A027NBEA    8.628213\n",
       "A033RC1A027NBEA    6.602835\n",
       "A033RC1A027NBEA    4.808278\n",
       "A033RC1A027NBEA    5.763871\n",
       "dtype: float64"
      ]
     },
     "execution_count": 69,
     "metadata": {},
     "output_type": "execute_result"
    }
   ],
   "source": [
    "w_growth"
   ]
  },
  {
   "cell_type": "code",
   "execution_count": 87,
   "metadata": {},
   "outputs": [],
   "source": [
    "tabe_one = pd.concat([gdp_growth.reset_index(drop=True), w_growth.reset_index(drop=True)], axis = 1)"
   ]
  },
  {
   "cell_type": "code",
   "execution_count": 93,
   "metadata": {},
   "outputs": [],
   "source": [
    "tabe_one.columns = [\"GDP growth\", \"Labor Compensation\"]"
   ]
  },
  {
   "cell_type": "code",
   "execution_count": 94,
   "metadata": {},
   "outputs": [
    {
     "data": {
      "text/html": [
       "<div>\n",
       "<style scoped>\n",
       "    .dataframe tbody tr th:only-of-type {\n",
       "        vertical-align: middle;\n",
       "    }\n",
       "\n",
       "    .dataframe tbody tr th {\n",
       "        vertical-align: top;\n",
       "    }\n",
       "\n",
       "    .dataframe thead th {\n",
       "        text-align: right;\n",
       "    }\n",
       "</style>\n",
       "<table border=\"1\" class=\"dataframe\">\n",
       "  <thead>\n",
       "    <tr style=\"text-align: right;\">\n",
       "      <th></th>\n",
       "      <th>GDP growth</th>\n",
       "      <th>Labor Compensation</th>\n",
       "    </tr>\n",
       "  </thead>\n",
       "  <tbody>\n",
       "    <tr>\n",
       "      <th>0</th>\n",
       "      <td>8.952189</td>\n",
       "      <td>8.628213</td>\n",
       "    </tr>\n",
       "    <tr>\n",
       "      <th>1</th>\n",
       "      <td>6.802840</td>\n",
       "      <td>6.602835</td>\n",
       "    </tr>\n",
       "    <tr>\n",
       "      <th>2</th>\n",
       "      <td>4.793541</td>\n",
       "      <td>4.808278</td>\n",
       "    </tr>\n",
       "    <tr>\n",
       "      <th>3</th>\n",
       "      <td>6.421586</td>\n",
       "      <td>5.763871</td>\n",
       "    </tr>\n",
       "  </tbody>\n",
       "</table>\n",
       "</div>"
      ],
      "text/plain": [
       "   GDP growth  Labor Compensation\n",
       "0    8.952189            8.628213\n",
       "1    6.802840            6.602835\n",
       "2    4.793541            4.808278\n",
       "3    6.421586            5.763871"
      ]
     },
     "execution_count": 94,
     "metadata": {},
     "output_type": "execute_result"
    }
   ],
   "source": [
    "tabe_one"
   ]
  },
  {
   "cell_type": "markdown",
   "metadata": {},
   "source": [
    "## Question \\#2"
   ]
  },
  {
   "cell_type": "code",
   "execution_count": 95,
   "metadata": {},
   "outputs": [],
   "source": [
    "codes = [\"CPILFESL\" ,\"GS1\"] \n",
    "# nomial gdp, imports, imports from china, constant maturity 1 year rate, cip (no energy or food)\n",
    "\n",
    "fred = data.DataReader(codes,\"fred\",1970)  # Then for fred, you hand it the codes\n",
    "                                            # Tell it you want to ask from FRED\n",
    "                                            # then tell it the start date"
   ]
  },
  {
   "cell_type": "code",
   "execution_count": 106,
   "metadata": {},
   "outputs": [],
   "source": [
    "infl = pd.DataFrame(fred[\"CPILFESL\"].resample(\"A\", convention= 'end').mean())\n",
    "\n",
    "nrate = pd.DataFrame(fred[\"GS1\"].resample(\"A\", convention= 'end').mean())"
   ]
  },
  {
   "cell_type": "code",
   "execution_count": 104,
   "metadata": {},
   "outputs": [],
   "source": [
    "inflation = (100*(np.log(infl.loc[\"1979-12-31\"]) - np.log(infl.loc[\"1970-12-31\"]) )/ 10)\n",
    "\n",
    "inflation = inflation.append(100*(np.log(infl.loc[\"1989-12-31\"]) - np.log(infl.loc[\"1980-12-31\"]) )/ 10)\n",
    "\n",
    "inflation = inflation.append(100*(np.log(infl.loc[\"1999-12-31\"]) - np.log(infl.loc[\"1990-12-31\"]) )/ 10)\n",
    "\n",
    "inflation = inflation.append(100*(np.log(infl.loc[\"2017-12-31\"]) - np.log(infl.loc[\"2000-12-31\"]) )/ 10)"
   ]
  },
  {
   "cell_type": "code",
   "execution_count": 105,
   "metadata": {},
   "outputs": [
    {
     "data": {
      "text/plain": [
       "CPILFESL    5.656061\n",
       "CPILFESL    4.677833\n",
       "CPILFESL    2.673444\n",
       "CPILFESL    3.300191\n",
       "dtype: float64"
      ]
     },
     "execution_count": 105,
     "metadata": {},
     "output_type": "execute_result"
    }
   ],
   "source": [
    "inflation"
   ]
  },
  {
   "cell_type": "code",
   "execution_count": 128,
   "metadata": {},
   "outputs": [],
   "source": [
    "nominal_rate = nrate[nrate.index < \"1980-12-31\"].mean()\n",
    "\n",
    "nominal_rate = nominal_rate.append(nrate[((\"1980-12-31\" < nrate.index) & (nrate.index < \"1990-12-31\"))].mean())\n",
    "\n",
    "nominal_rate = nominal_rate.append(nrate[((\"1990-12-31\" < nrate.index) & (nrate.index < \"2000-12-31\"))].mean())\n",
    "\n",
    "nominal_rate = nominal_rate.append(nrate[((\"2000-12-31\" < nrate.index) & (nrate.index < \"2017-12-31\"))].mean())"
   ]
  },
  {
   "cell_type": "code",
   "execution_count": 129,
   "metadata": {},
   "outputs": [
    {
     "data": {
      "text/plain": [
       "GS1    6.995667\n",
       "GS1    9.483704\n",
       "GS1    5.079074\n",
       "GS1    1.615156\n",
       "dtype: float64"
      ]
     },
     "execution_count": 129,
     "metadata": {},
     "output_type": "execute_result"
    }
   ],
   "source": [
    "nominal_rate"
   ]
  },
  {
   "cell_type": "code",
   "execution_count": 131,
   "metadata": {},
   "outputs": [],
   "source": [
    "infl[\"log_cpi\"] = np.log(infl[\"CPILFESL\"])"
   ]
  },
  {
   "cell_type": "code",
   "execution_count": 134,
   "metadata": {},
   "outputs": [],
   "source": [
    "infl[\"inflation_rate\"] = 100.*infl.log_cpi.diff()"
   ]
  },
  {
   "cell_type": "code",
   "execution_count": 135,
   "metadata": {},
   "outputs": [
    {
     "data": {
      "text/html": [
       "<div>\n",
       "<style scoped>\n",
       "    .dataframe tbody tr th:only-of-type {\n",
       "        vertical-align: middle;\n",
       "    }\n",
       "\n",
       "    .dataframe tbody tr th {\n",
       "        vertical-align: top;\n",
       "    }\n",
       "\n",
       "    .dataframe thead th {\n",
       "        text-align: right;\n",
       "    }\n",
       "</style>\n",
       "<table border=\"1\" class=\"dataframe\">\n",
       "  <thead>\n",
       "    <tr style=\"text-align: right;\">\n",
       "      <th></th>\n",
       "      <th>CPILFESL</th>\n",
       "      <th>log_cpi</th>\n",
       "      <th>inflation_rate</th>\n",
       "    </tr>\n",
       "    <tr>\n",
       "      <th>DATE</th>\n",
       "      <th></th>\n",
       "      <th></th>\n",
       "      <th></th>\n",
       "    </tr>\n",
       "  </thead>\n",
       "  <tbody>\n",
       "    <tr>\n",
       "      <th>1970-12-31</th>\n",
       "      <td>40.816667</td>\n",
       "      <td>3.709090</td>\n",
       "      <td>NaN</td>\n",
       "    </tr>\n",
       "    <tr>\n",
       "      <th>1971-12-31</th>\n",
       "      <td>42.733333</td>\n",
       "      <td>3.754979</td>\n",
       "      <td>4.588876</td>\n",
       "    </tr>\n",
       "    <tr>\n",
       "      <th>1972-12-31</th>\n",
       "      <td>44.041667</td>\n",
       "      <td>3.785136</td>\n",
       "      <td>3.015690</td>\n",
       "    </tr>\n",
       "    <tr>\n",
       "      <th>1973-12-31</th>\n",
       "      <td>45.575000</td>\n",
       "      <td>3.819359</td>\n",
       "      <td>3.422317</td>\n",
       "    </tr>\n",
       "    <tr>\n",
       "      <th>1974-12-31</th>\n",
       "      <td>49.358333</td>\n",
       "      <td>3.899107</td>\n",
       "      <td>7.974729</td>\n",
       "    </tr>\n",
       "  </tbody>\n",
       "</table>\n",
       "</div>"
      ],
      "text/plain": [
       "             CPILFESL   log_cpi  inflation_rate\n",
       "DATE                                           \n",
       "1970-12-31  40.816667  3.709090             NaN\n",
       "1971-12-31  42.733333  3.754979        4.588876\n",
       "1972-12-31  44.041667  3.785136        3.015690\n",
       "1973-12-31  45.575000  3.819359        3.422317\n",
       "1974-12-31  49.358333  3.899107        7.974729"
      ]
     },
     "execution_count": 135,
     "metadata": {},
     "output_type": "execute_result"
    }
   ],
   "source": [
    "infl.head()"
   ]
  },
  {
   "cell_type": "code",
   "execution_count": 136,
   "metadata": {},
   "outputs": [],
   "source": [
    "tabe_two = pd.concat([infl, nrate], axis = 1)"
   ]
  },
  {
   "cell_type": "code",
   "execution_count": 138,
   "metadata": {},
   "outputs": [],
   "source": [
    "tabe_two[\"real_rates\"] = tabe_two[\"GS1\"] - tabe_two[\"inflation_rate\"]"
   ]
  },
  {
   "cell_type": "code",
   "execution_count": 142,
   "metadata": {},
   "outputs": [
    {
     "data": {
      "image/png": "[encoded data removed]",
      "text/plain": [
       "<Figure size 720x504 with 1 Axes>"
      ]
     },
     "metadata": {
      "needs_background": "light"
     },
     "output_type": "display_data"
    }
   ],
   "source": [
    "fig, ax = plt.subplots(figsize = (10,7))\n",
    "\n",
    "ax.plot(tabe_two[\"real_rates\"], color = \"blue\",\n",
    "        linewidth = 5, alpha = 0.75)\n",
    "\n",
    "ax.set_ylabel(\"Real Interest Rates\", fontsize = 14)\n",
    "\n",
    "ax.spines[\"top\"].set_visible(False)\n",
    "ax.spines[\"right\"].set_visible(False)\n",
    "\n",
    "plt.show()"
   ]
  },
  {
   "cell_type": "code",
   "execution_count": null,
   "metadata": {},
   "outputs": [],
   "source": []
  }
 ],
 "metadata": {
  "hide_input": false,
  "kernelspec": {
   "display_name": "Python 3",
   "language": "python",
   "name": "python3"
  },
  "language_info": {
   "codemirror_mode": {
    "name": "ipython",
    "version": 3
   },
   "file_extension": ".py",
   "mimetype": "text/x-python",
   "name": "python",
   "nbconvert_exporter": "python",
   "pygments_lexer": "ipython3",
   "version": "3.7.1"
  }
 },
 "nbformat": 4,
 "nbformat_minor": 2
}
